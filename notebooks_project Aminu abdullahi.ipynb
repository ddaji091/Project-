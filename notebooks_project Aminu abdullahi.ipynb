{
  "metadata": {
    "language_info": {
      "codemirror_mode": {
        "name": "python",
        "version": 3
      },
      "file_extension": ".py",
      "mimetype": "text/x-python",
      "name": "python",
      "nbconvert_exporter": "python",
      "pygments_lexer": "ipython3",
      "version": "3.8"
    },
    "kernelspec": {
      "name": "python",
      "display_name": "Python (Pyodide)",
      "language": "python"
    }
  },
  "nbformat_minor": 4,
  "nbformat": 4,
  "cells": [
    {
      "cell_type": "markdown",
      "source": "# Data science tools and Ecosystem",
      "metadata": {}
    },
    {
      "cell_type": "markdown",
      "source": "In this notebook Data science and tools are summarised ",
      "metadata": {}
    },
    {
      "cell_type": "markdown",
      "source": "Objectives that this notebook covered: \n1. Python \n2. R \n3. Jupyter Notebook \n4. R ",
      "metadata": {}
    },
    {
      "cell_type": "markdown",
      "source": "Author: Aminu Abdullahi Dogondaji",
      "metadata": {}
    },
    {
      "cell_type": "markdown",
      "source": "Some of the Languages Data Scientist use are: \n1. Python \n2. R \n3. C/C+\n",
      "metadata": {}
    },
    {
      "cell_type": "markdown",
      "source": "Some of the commonly used libraries by Data Scienctist include:\n1. Numpy \n2. Pandas \n3. Plotly \n4. Matplotly\n",
      "metadata": {}
    },
    {
      "cell_type": "markdown",
      "source": "Data science Tools ",
      "metadata": {}
    },
    {
      "cell_type": "markdown",
      "source": "| Header 1 | Header 2 | Header 3 |\n|----------|----------|----------|\n| Row 1, Col 1 | Row 1, Col 2 | Row 1, Col 3 |\n| Row 2, Col 1 | Row 2, Col 2 | Row 2, Col 3 |\n| Row 3, Col 1 | Row 3, Col 2 | Row 3, Col 3 |\n",
      "metadata": {}
    },
    {
      "cell_type": "code",
      "source": "#Below are a few examples of evaluating arithmetic expressions in Python",
      "metadata": {},
      "execution_count": null,
      "outputs": []
    },
    {
      "cell_type": "code",
      "source": "(3*4)+5",
      "metadata": {
        "trusted": true
      },
      "execution_count": 8,
      "outputs": [
        {
          "execution_count": 8,
          "output_type": "execute_result",
          "data": {
            "text/plain": "17"
          },
          "metadata": {}
        }
      ]
    },
    {
      "cell_type": "markdown",
      "source": "### Basic Arithmetic Operators\nPython supports the following basic arithmetic operators:\n\n- Addition (`+`): Adds two numbers.\n- Subtraction (`-`): Subtracts the second number from the first.\n- Multiplication (`*`): Multiplies two numbers.\n- Division (`/`): Divides the first number by the second.\n- Modulus (`%`): Returns the remainder of the division.\n- Exponentiation (`**`): Raises the first number to the power of the second.\n\nHere are some examples:\n\n```python\n# Addition\nresult_addition = 5 + 3  # 8\n\n# Subtraction\nresult_subtraction = 10 - 4  # 6\n\n# Multiplication\nresult_multiplication = 6 * 7  # 42\n\n# Division\nresult_division = 20 / 4  # 5.0\n\n# Modulus\nresult_modulus = 17 % 3  # 2\n\n# Exponentiation\nresult_exponentiation = 2 ** 3  # 8\n",
      "metadata": {}
    },
    {
      "cell_type": "code",
      "source": "#In this code cell write an expression that converts 200 minutes into hours.\n#This will convert 200 minutes to hours by diving by 60\n200/60",
      "metadata": {
        "trusted": true
      },
      "execution_count": 9,
      "outputs": [
        {
          "execution_count": 9,
          "output_type": "execute_result",
          "data": {
            "text/plain": "3.3333333333333335"
          },
          "metadata": {}
        }
      ]
    },
    {
      "cell_type": "code",
      "source": "",
      "metadata": {},
      "execution_count": null,
      "outputs": []
    }
  ]
}